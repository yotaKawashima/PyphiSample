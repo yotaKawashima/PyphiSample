{
  "nbformat": 4,
  "nbformat_minor": 0,
  "metadata": {
    "colab": {
      "name": "pyphiSample.ipynb",
      "provenance": []
    },
    "kernelspec": {
      "name": "python3",
      "display_name": "Python 3"
    },
    "language_info": {
      "name": "python"
    }
  },
  "cells": [
    {
      "cell_type": "markdown",
      "metadata": {
        "id": "Ff3hxBHwrZrM"
      },
      "source": [
        "#Run this code on google colab."
      ]
    },
    {
      "cell_type": "markdown",
      "metadata": {
        "id": "BLiLA6aNcOkv"
      },
      "source": [
        "## Install pyphi (v1.2.0)\n",
        " Mayner WGP, Marshall W, Albantakis L, Findlay G, Marchman R, Tononi G.\n",
        "  (2018). PyPhi: A toolbox for integrated information theory.\n",
        "  PLOS Computational Biology 14(7): e1006343.\n",
        "  https://doi.org/10.1371/journal.pcbi.1006343\n",
        "\n",
        "Documentation is available online (or with the built-in `help()` function):\n",
        "  https://pyphi.readthedocs.io\n",
        "\n",
        "To report issues, please use the issue tracker on the GitHub repository:\n",
        "  https://github.com/wmayner/pyphi\n",
        "\n",
        "For general discussion, you are welcome to join the pyphi-users group:\n",
        "  https://groups.google.com/forum/#!forum/pyphi-users"
      ]
    },
    {
      "cell_type": "code",
      "metadata": {
        "colab": {
          "base_uri": "https://localhost:8080/"
        },
        "id": "FEZuM6HKarCL",
        "outputId": "eea50268-bf5a-417a-c757-414b0e22a84f"
      },
      "source": [
        "!pip install pyphi"
      ],
      "execution_count": 2,
      "outputs": [
        {
          "output_type": "stream",
          "text": [
            "Collecting pyphi\n",
            "\u001b[?25l  Downloading https://files.pythonhosted.org/packages/ad/21/cc74dfd8a0f7a536673b96d8cab0e4ca8c54289e4f0d914aba7d4d9dc406/pyphi-1.2.0-py3-none-any.whl (619kB)\n",
            "\u001b[K     |████████████████████████████████| 624kB 5.1MB/s \n",
            "\u001b[?25hRequirement already satisfied: joblib>=0.8.0 in /usr/local/lib/python3.7/dist-packages (from pyphi) (1.0.1)\n",
            "Requirement already satisfied: decorator>=4.0.0 in /usr/local/lib/python3.7/dist-packages (from pyphi) (4.4.2)\n",
            "Requirement already satisfied: pyemd>=0.3.0 in /usr/local/lib/python3.7/dist-packages (from pyphi) (0.5.1)\n",
            "Requirement already satisfied: psutil>=2.1.1 in /usr/local/lib/python3.7/dist-packages (from pyphi) (5.4.8)\n",
            "Requirement already satisfied: scipy>=0.13.3 in /usr/local/lib/python3.7/dist-packages (from pyphi) (1.4.1)\n",
            "Requirement already satisfied: pymongo>=2.7.1 in /usr/local/lib/python3.7/dist-packages (from pyphi) (3.11.4)\n",
            "Requirement already satisfied: pyyaml>=3.13 in /usr/local/lib/python3.7/dist-packages (from pyphi) (3.13)\n",
            "Collecting redis>=2.10.5\n",
            "\u001b[?25l  Downloading https://files.pythonhosted.org/packages/a7/7c/24fb0511df653cf1a5d938d8f5d19802a88cef255706fdda242ff97e91b7/redis-3.5.3-py2.py3-none-any.whl (72kB)\n",
            "\u001b[K     |████████████████████████████████| 81kB 9.4MB/s \n",
            "\u001b[?25hRequirement already satisfied: numpy>=1.11.0 in /usr/local/lib/python3.7/dist-packages (from pyphi) (1.19.5)\n",
            "Requirement already satisfied: tblib>=1.3.2 in /usr/local/lib/python3.7/dist-packages (from pyphi) (1.7.0)\n",
            "Requirement already satisfied: tqdm>=4.20.0 in /usr/local/lib/python3.7/dist-packages (from pyphi) (4.41.1)\n",
            "Installing collected packages: redis, pyphi\n",
            "Successfully installed pyphi-1.2.0 redis-3.5.3\n"
          ],
          "name": "stdout"
        }
      ]
    },
    {
      "cell_type": "markdown",
      "metadata": {
        "id": "YSH-qDJocZzD"
      },
      "source": [
        "## Set up python packages"
      ]
    },
    {
      "cell_type": "code",
      "metadata": {
        "id": "ayzZmlJycUHh",
        "colab": {
          "base_uri": "https://localhost:8080/"
        },
        "outputId": "4bf42480-59c2-4e67-ac23-6ef9e1e05524"
      },
      "source": [
        "import pyphi\n",
        "import numpy as np"
      ],
      "execution_count": 3,
      "outputs": [
        {
          "output_type": "stream",
          "text": [
            "\n",
            "Welcome to PyPhi!\n",
            "\n",
            "If you use PyPhi in your research, please cite the paper:\n",
            "\n",
            "  Mayner WGP, Marshall W, Albantakis L, Findlay G, Marchman R, Tononi G.\n",
            "  (2018). PyPhi: A toolbox for integrated information theory.\n",
            "  PLOS Computational Biology 14(7): e1006343.\n",
            "  https://doi.org/10.1371/journal.pcbi.1006343\n",
            "\n",
            "Documentation is available online (or with the built-in `help()` function):\n",
            "  https://pyphi.readthedocs.io\n",
            "\n",
            "To report issues, please use the issue tracker on the GitHub repository:\n",
            "  https://github.com/wmayner/pyphi\n",
            "\n",
            "For general discussion, you are welcome to join the pyphi-users group:\n",
            "  https://groups.google.com/forum/#!forum/pyphi-users\n",
            "\n",
            "To suppress this message, either:\n",
            "  - Set `WELCOME_OFF: true` in your `pyphi_config.yml` file, or\n",
            "  - Set the environment variable PYPHI_WELCOME_OFF to any value in your shell:\n",
            "        export PYPHI_WELCOME_OFF='yes'\n",
            "\n"
          ],
          "name": "stdout"
        }
      ]
    },
    {
      "cell_type": "markdown",
      "metadata": {
        "id": "rga4s27Qcy4K"
      },
      "source": [
        "## Set parameters"
      ]
    },
    {
      "cell_type": "code",
      "metadata": {
        "id": "kltiAgXnclHf"
      },
      "source": [
        "# Transition Probability Matrix (TPM)\n",
        "# Note that pyphi uses little-endian convention.\n",
        "# i.e. the state of the first node varies the fastest.\n",
        "tpm = np.array([\n",
        "                [0, 0],\n",
        "                [0, 1],\n",
        "                [1, 0],\n",
        "                [1, 1]\n",
        "                ])\n",
        "\n",
        "# Connectivity Matrix (CM)\n",
        "# Assume full connection.\n",
        "# This assumption should give the same result as the one from the specified cm. \n",
        "cm = np.ones((2,2))\n",
        "# Specify CM if you know physical connection. \n",
        "#cm = np.array([\n",
        "#               [0, 1],\n",
        "#               [1, 0],\n",
        "#])"
      ],
      "execution_count": 4,
      "outputs": []
    },
    {
      "cell_type": "markdown",
      "metadata": {
        "id": "OIl3Wm_Vcvqy"
      },
      "source": [
        "## Compute phi for a subsystem in a network"
      ]
    },
    {
      "cell_type": "code",
      "metadata": {
        "id": "IvBkk2MdeO0-"
      },
      "source": [
        "# Define a network\n",
        "network = pyphi.Network(tpm, cm=cm)\n",
        "\n",
        "# Set a subsystem by specifying its nodes and states.\n",
        "# Here, include all nodes \n",
        "node_indices = (0, 1) # Nodes to be included  \n",
        "state = (1, 0) # state of the subsystem\n",
        "# Set the subsystem\n",
        "subsystem = pyphi.Subsystem(network, state, node_indices)"
      ],
      "execution_count": 5,
      "outputs": []
    },
    {
      "cell_type": "markdown",
      "metadata": {
        "id": "eU3EeCDnfrAm"
      },
      "source": [
        "## Big phi and small phi for the subsystem\n",
        "This does not perform complex analysis. i.e. comparison of big phi among all possible subsystems."
      ]
    },
    {
      "cell_type": "code",
      "metadata": {
        "colab": {
          "base_uri": "https://localhost:8080/"
        },
        "id": "5sPbnZlwfvhR",
        "outputId": "279f5899-862d-4432-92d2-c67aae9e3774"
      },
      "source": [
        "# System irreducibility analysis for the specified subsystem.\n",
        "# i.e. evaluate integration and get informational structure of the system.\n",
        "sia = pyphi.compute.sia(subsystem)\n",
        "\n",
        "print(sia)"
      ],
      "execution_count": 6,
      "outputs": [
        {
          "output_type": "stream",
          "text": [
            "                                                        "
          ],
          "name": "stderr"
        },
        {
          "output_type": "stream",
          "text": [
            "┌──────────────────────────────────────────────────────────────┐\n",
            "│            System irreducibility analysis: Φ = 1             │\n",
            "│                    Cut [n0] ━━/ /━━➤ [n1]                    │\n",
            "│                      Subsystem(n0, n1)                       │\n",
            "│ ════════════════════════════════════════════════════════════ │\n",
            "│             Cause-effect structure (2 concepts)              │\n",
            "│ ════════════════════════════════════════════════════════════ │\n",
            "│   ━━━━━━━━━━━━━━━━━━━━━━━━━━━━━━━━━━━━━━━━━━━━━━━━━━━━━━━━   │\n",
            "│              Concept: Mechanism = [n0], φ = 1/2              │\n",
            "│   ━━━━━━━━━━━━━━━━━━━━━━━━━━━━━━━━━━━━━━━━━━━━━━━━━━━━━━━━   │\n",
            "│               MIC                         MIE                │\n",
            "│   ┌──────────────────────────┐┌──────────────────────────┐   │\n",
            "│   │  φ = 1/2                 ││  φ = 1/2                 │   │\n",
            "│   │  Purview = [n1]          ││  Purview = [n1]          │   │\n",
            "│   │  MIP:                    ││  MIP:                    │   │\n",
            "│   │     ∅    n0              ││     ∅    n0              │   │\n",
            "│   │    ─── ✕ ───             ││    ─── ✕ ───             │   │\n",
            "│   │    n1     ∅              ││    n1     ∅              │   │\n",
            "│   │  Repertoire:             ││  Repertoire:             │   │\n",
            "│   │    ┌─────────────┐       ││    ┌─────────────┐       │   │\n",
            "│   │    │ S    Pr(S)  │       ││    │ S    Pr(S)  │       │   │\n",
            "│   │    │ ╴╴╴╴╴╴╴╴╴╴╴ │       ││    │ ╴╴╴╴╴╴╴╴╴╴╴ │       │   │\n",
            "│   │    │ 0    0      │       ││    │ 0    0      │       │   │\n",
            "│   │    │ 1    1      │       ││    │ 1    1      │       │   │\n",
            "│   │    └─────────────┘       ││    └─────────────┘       │   │\n",
            "│   │  Partitioned repertoire: ││  Partitioned repertoire: │   │\n",
            "│   │    ┌─────────────┐       ││    ┌─────────────┐       │   │\n",
            "│   │    │ S    Pr(S)  │       ││    │ S    Pr(S)  │       │   │\n",
            "│   │    │ ╴╴╴╴╴╴╴╴╴╴╴ │       ││    │ ╴╴╴╴╴╴╴╴╴╴╴ │       │   │\n",
            "│   │    │ 0    1/2    │       ││    │ 0    1/2    │       │   │\n",
            "│   │    │ 1    1/2    │       ││    │ 1    1/2    │       │   │\n",
            "│   │    └─────────────┘       ││    └─────────────┘       │   │\n",
            "│   └──────────────────────────┘└──────────────────────────┘   │\n",
            "│                                                              │\n",
            "│   ━━━━━━━━━━━━━━━━━━━━━━━━━━━━━━━━━━━━━━━━━━━━━━━━━━━━━━━━   │\n",
            "│              Concept: Mechanism = [n1], φ = 1/2              │\n",
            "│   ━━━━━━━━━━━━━━━━━━━━━━━━━━━━━━━━━━━━━━━━━━━━━━━━━━━━━━━━   │\n",
            "│               MIC                         MIE                │\n",
            "│   ┌──────────────────────────┐┌──────────────────────────┐   │\n",
            "│   │  φ = 1/2                 ││  φ = 1/2                 │   │\n",
            "│   │  Purview = [n0]          ││  Purview = [n0]          │   │\n",
            "│   │  MIP:                    ││  MIP:                    │   │\n",
            "│   │     ∅    n1              ││     ∅    n1              │   │\n",
            "│   │    ─── ✕ ───             ││    ─── ✕ ───             │   │\n",
            "│   │    n0     ∅              ││    n0     ∅              │   │\n",
            "│   │  Repertoire:             ││  Repertoire:             │   │\n",
            "│   │    ┌─────────────┐       ││    ┌─────────────┐       │   │\n",
            "│   │    │ S    Pr(S)  │       ││    │ S    Pr(S)  │       │   │\n",
            "│   │    │ ╴╴╴╴╴╴╴╴╴╴╴ │       ││    │ ╴╴╴╴╴╴╴╴╴╴╴ │       │   │\n",
            "│   │    │ 0    1      │       ││    │ 0    1      │       │   │\n",
            "│   │    │ 1    0      │       ││    │ 1    0      │       │   │\n",
            "│   │    └─────────────┘       ││    └─────────────┘       │   │\n",
            "│   │  Partitioned repertoire: ││  Partitioned repertoire: │   │\n",
            "│   │    ┌─────────────┐       ││    ┌─────────────┐       │   │\n",
            "│   │    │ S    Pr(S)  │       ││    │ S    Pr(S)  │       │   │\n",
            "│   │    │ ╴╴╴╴╴╴╴╴╴╴╴ │       ││    │ ╴╴╴╴╴╴╴╴╴╴╴ │       │   │\n",
            "│   │    │ 0    1/2    │       ││    │ 0    1/2    │       │   │\n",
            "│   │    │ 1    1/2    │       ││    │ 1    1/2    │       │   │\n",
            "│   │    └─────────────┘       ││    └─────────────┘       │   │\n",
            "│   └──────────────────────────┘└──────────────────────────┘   │\n",
            "│                                                              │\n",
            "│ ()                                                           │\n",
            "│                                                              │\n",
            "└──────────────────────────────────────────────────────────────┘\n"
          ],
          "name": "stdout"
        },
        {
          "output_type": "stream",
          "text": [
            "\r"
          ],
          "name": "stderr"
        }
      ]
    },
    {
      "cell_type": "markdown",
      "metadata": {
        "id": "QpFsU3b4icb4"
      },
      "source": [
        "### Look into details in sia"
      ]
    },
    {
      "cell_type": "code",
      "metadata": {
        "id": "nC8haNxtgR8C",
        "colab": {
          "base_uri": "https://localhost:8080/"
        },
        "outputId": "d7042b55-53ec-4f45-fbe6-26e11fdc39ae"
      },
      "source": [
        "# Get big phi\n",
        "big_phi = sia.phi\n",
        "print(\"big phi: \" + str(big_phi))\n",
        "\n",
        "# Get the small phi structure from the not-pertitioned TPM.\n",
        "ces = sia.ces\n",
        "print(\"From the system-level not-pertitioned TPM.\")\n",
        "print(ces)\n",
        "\n",
        "# Get the small phi structure from the partitioned TPM.\n",
        "# Note that big phi is a \"distance\" between the two small phi structures. \n",
        "partitioned_ces = sia.partitioned_ces\n",
        "print(\"From the system-level pertitioned TPM.\")\n",
        "print(partitioned_ces)"
      ],
      "execution_count": 7,
      "outputs": [
        {
          "output_type": "stream",
          "text": [
            "big phi: 1.0\n",
            "From the system-level not-pertitioned TPM.\n",
            "════════════════════════════════════════════════════════════\n",
            "            Cause-effect structure (2 concepts)             \n",
            "════════════════════════════════════════════════════════════\n",
            "  ━━━━━━━━━━━━━━━━━━━━━━━━━━━━━━━━━━━━━━━━━━━━━━━━━━━━━━━━  \n",
            "             Concept: Mechanism = [n0], φ = 1/2             \n",
            "  ━━━━━━━━━━━━━━━━━━━━━━━━━━━━━━━━━━━━━━━━━━━━━━━━━━━━━━━━  \n",
            "              MIC                         MIE               \n",
            "  ┌──────────────────────────┐┌──────────────────────────┐  \n",
            "  │  φ = 1/2                 ││  φ = 1/2                 │  \n",
            "  │  Purview = [n1]          ││  Purview = [n1]          │  \n",
            "  │  MIP:                    ││  MIP:                    │  \n",
            "  │     ∅    n0              ││     ∅    n0              │  \n",
            "  │    ─── ✕ ───             ││    ─── ✕ ───             │  \n",
            "  │    n1     ∅              ││    n1     ∅              │  \n",
            "  │  Repertoire:             ││  Repertoire:             │  \n",
            "  │    ┌─────────────┐       ││    ┌─────────────┐       │  \n",
            "  │    │ S    Pr(S)  │       ││    │ S    Pr(S)  │       │  \n",
            "  │    │ ╴╴╴╴╴╴╴╴╴╴╴ │       ││    │ ╴╴╴╴╴╴╴╴╴╴╴ │       │  \n",
            "  │    │ 0    0      │       ││    │ 0    0      │       │  \n",
            "  │    │ 1    1      │       ││    │ 1    1      │       │  \n",
            "  │    └─────────────┘       ││    └─────────────┘       │  \n",
            "  │  Partitioned repertoire: ││  Partitioned repertoire: │  \n",
            "  │    ┌─────────────┐       ││    ┌─────────────┐       │  \n",
            "  │    │ S    Pr(S)  │       ││    │ S    Pr(S)  │       │  \n",
            "  │    │ ╴╴╴╴╴╴╴╴╴╴╴ │       ││    │ ╴╴╴╴╴╴╴╴╴╴╴ │       │  \n",
            "  │    │ 0    1/2    │       ││    │ 0    1/2    │       │  \n",
            "  │    │ 1    1/2    │       ││    │ 1    1/2    │       │  \n",
            "  │    └─────────────┘       ││    └─────────────┘       │  \n",
            "  └──────────────────────────┘└──────────────────────────┘  \n",
            "    \n",
            "  ━━━━━━━━━━━━━━━━━━━━━━━━━━━━━━━━━━━━━━━━━━━━━━━━━━━━━━━━  \n",
            "             Concept: Mechanism = [n1], φ = 1/2             \n",
            "  ━━━━━━━━━━━━━━━━━━━━━━━━━━━━━━━━━━━━━━━━━━━━━━━━━━━━━━━━  \n",
            "              MIC                         MIE               \n",
            "  ┌──────────────────────────┐┌──────────────────────────┐  \n",
            "  │  φ = 1/2                 ││  φ = 1/2                 │  \n",
            "  │  Purview = [n0]          ││  Purview = [n0]          │  \n",
            "  │  MIP:                    ││  MIP:                    │  \n",
            "  │     ∅    n1              ││     ∅    n1              │  \n",
            "  │    ─── ✕ ───             ││    ─── ✕ ───             │  \n",
            "  │    n0     ∅              ││    n0     ∅              │  \n",
            "  │  Repertoire:             ││  Repertoire:             │  \n",
            "  │    ┌─────────────┐       ││    ┌─────────────┐       │  \n",
            "  │    │ S    Pr(S)  │       ││    │ S    Pr(S)  │       │  \n",
            "  │    │ ╴╴╴╴╴╴╴╴╴╴╴ │       ││    │ ╴╴╴╴╴╴╴╴╴╴╴ │       │  \n",
            "  │    │ 0    1      │       ││    │ 0    1      │       │  \n",
            "  │    │ 1    0      │       ││    │ 1    0      │       │  \n",
            "  │    └─────────────┘       ││    └─────────────┘       │  \n",
            "  │  Partitioned repertoire: ││  Partitioned repertoire: │  \n",
            "  │    ┌─────────────┐       ││    ┌─────────────┐       │  \n",
            "  │    │ S    Pr(S)  │       ││    │ S    Pr(S)  │       │  \n",
            "  │    │ ╴╴╴╴╴╴╴╴╴╴╴ │       ││    │ ╴╴╴╴╴╴╴╴╴╴╴ │       │  \n",
            "  │    │ 0    1/2    │       ││    │ 0    1/2    │       │  \n",
            "  │    │ 1    1/2    │       ││    │ 1    1/2    │       │  \n",
            "  │    └─────────────┘       ││    └─────────────┘       │  \n",
            "  └──────────────────────────┘└──────────────────────────┘  \n",
            "    \n",
            "\n",
            "From the system-level pertitioned TPM.\n",
            "()\n",
            "\n"
          ],
          "name": "stdout"
        }
      ]
    },
    {
      "cell_type": "code",
      "metadata": {
        "id": "FNBXjZ5nksaS"
      },
      "source": [
        ""
      ],
      "execution_count": 7,
      "outputs": []
    }
  ]
}